{
 "cells": [
  {
   "cell_type": "code",
   "execution_count": 1,
   "metadata": {},
   "outputs": [],
   "source": [
    "import numpy as np\n",
    "import matplotlib.pyplot as plt\n",
    "\n",
    "import torch\n",
    "import torch.nn as nn\n",
    "from torch.utils.data import TensorDataset, Dataset, DataLoader\n",
    "from torchvision import transforms, utils\n",
    "\n",
    "from sklearn.model_selection import train_test_split\n",
    "\n",
    "from tqdm import *"
   ]
  },
  {
   "cell_type": "markdown",
   "metadata": {},
   "source": [
    "# Load Data"
   ]
  },
  {
   "cell_type": "code",
   "execution_count": 4,
   "metadata": {},
   "outputs": [],
   "source": [
    "def load_file(fileE, fileI):\n",
    "    \n",
    "    # unpack the data\n",
    "    Enet = np.load(fileE)\n",
    "    sample_ind = np.load(fileI, allow_pickle=True)\n",
    "    \n",
    "    # parse file name for data\n",
    "    name = fileE.split('.')[0]\n",
    "    \n",
    "    # get discretization of material quadrant\n",
    "    dx = int(name[8:10])\n",
    "    \n",
    "    # number of samples\n",
    "    N = int(name[14:])\n",
    "    \n",
    "    # Retrun matrices\n",
    "    sample = np.zeros((N, 2*dx, 2*dx))\n",
    "    sample_base = np.zeros((N, dx, dx))\n",
    "    \n",
    "    for i in range(sample_ind.shape[0]):\n",
    "        ind = sample_ind[i]\n",
    "        \n",
    "        \n",
    "        base = np.zeros(dx**2)\n",
    "        base[ind] = 1\n",
    "        base1 = base.reshape((dx, dx))\n",
    "        base2 = np.flip(base1, axis=1)\n",
    "        base3 = np.flip(base1, axis=0)\n",
    "        base4 = np.flip(base2, axis=0)\n",
    "        \n",
    "        top = np.concatenate((base1, base2), axis=1)\n",
    "        bott = np.concatenate((base3, base4), axis=1)\n",
    "        layout = np.concatenate((top, bott), axis=0)\n",
    "        \n",
    "        sample_base[2*i] = base1\n",
    "        sample[2*i] = layout\n",
    "        \n",
    "        sample_base[2*i+1] = np.flip(np.rot90(base1), axis=0)\n",
    "        sample[2*i+1] = np.rot90(layout)\n",
    "    \n",
    "    return Enet, sample_base, sample"
   ]
  },
  {
   "cell_type": "code",
   "execution_count": 12,
   "metadata": {},
   "outputs": [],
   "source": [
    "fileE = 'train_E_05x05_10000.npy'\n",
    "fileI = 'train_I_05x05_10000.npy'\n",
    "\n",
    "# Get data from files\n",
    "'''\n",
    "y = the training labels (Enet of each material)\n",
    "x0 = training data (5x5) (the base design of each sample)\n",
    "x1 = training data (10x10) (full binary layout of material microstructure)\n",
    "'''\n",
    "E, x0, x1 = load_file(fileE, fileI)\n",
    "\n",
    "# Add dimensionality to the data\n",
    "'''\n",
    "Channel 1 = young's modulus\n",
    "Channel 2 = poison's ratio\n",
    "'''\n",
    "E1 = 1000\n",
    "v1 = .4\n",
    "E2 = 100\n",
    "v2 = .1\n",
    "\n",
    "# Complile training data\n",
    "X0 = np.zeros((x0.shape[0], 2, x0.shape[1], x0.shape[2]))\n",
    "for i in range(x0.shape[0]):\n",
    "    '''X0 DIMENSIONS'''\n",
    "    A = np.zeros((x0.shape[1], x0.shape[2]))\n",
    "    \n",
    "    # Input young's modulus\n",
    "    A[x0[i]==0] = E1\n",
    "    A[x0[i]==1] = E2\n",
    "    \n",
    "    X0[i, 0] = A\n",
    "    \n",
    "    # Input young's modulus\n",
    "    A[x0[i]==0] = v1\n",
    "    A[x0[i]==1] = v2\n",
    "    \n",
    "    X0[i, 1] = A"
   ]
  },
  {
   "cell_type": "markdown",
   "metadata": {},
   "source": [
    "# Neural Network Architecture"
   ]
  },
  {
   "cell_type": "code",
   "execution_count": 87,
   "metadata": {},
   "outputs": [],
   "source": [
    "class Generator(nn.Module):\n",
    "    def __init__(self, ngpu=1):\n",
    "        super(Generator, self).__init__()\n",
    "        self.ngpu = ngpu\n",
    "        \n",
    "        # Linear Layer: take latent variable, z, and transform it into 50 variable array\n",
    "        self.lin = nn.Sequential(\n",
    "            nn.Linear(1, 4), \n",
    "            nn.ReLU(),\n",
    "            nn.BatchNorm1d(4),\n",
    "            nn.Linear(4, 20), \n",
    "            nn.ReLU(),\n",
    "            nn.BatchNorm1d(20),\n",
    "            nn.Linear(20, 50),\n",
    "            nn.ReLU()\n",
    "        )\n",
    "        \n",
    "        # Convolutional Layer: take 2 x 5 x 5 map, output same \n",
    "        self.conv = nn.Sequential(\n",
    "            # in: 2 x 5 x 5\n",
    "            nn.ConvTranspose2d(in_channels=2, out_channels=10, kernel_size=3, padding=1),\n",
    "            # out: 10 x 5 x 5\n",
    "            nn.BatchNorm2d(10),\n",
    "            nn.ReLU(),\n",
    "            nn.ConvTranspose2d(in_channels=10, out_channels=6, kernel_size=3, padding=1),\n",
    "            # out: 6 x 5 x 5\n",
    "            nn.BatchNorm2d(6),\n",
    "            nn.ReLU(),\n",
    "            nn.ConvTranspose2d(in_channels=6, out_channels=4, kernel_size=3, padding=1),\n",
    "            # out: 4 x 5 x 5\n",
    "            nn.BatchNorm2d(4),\n",
    "            nn.ReLU(),\n",
    "            nn.ConvTranspose2d(in_channels=4, out_channels=2, kernel_size=3, padding=1),\n",
    "            # out: 2 x 5 x 5\n",
    "            nn.BatchNorm2d(2),\n",
    "            nn.ReLU()\n",
    "            )\n",
    "        \n",
    "        \n",
    "    def forward(self, x):\n",
    "        x = self.lin(x)\n",
    "        x = x.reshape(x.shape[0], 2, 5, 5)\n",
    "        x = self.conv(x)\n",
    "        x = x.reshape(x.shape[0], 2, 5, 5)\n",
    "        return x"
   ]
  },
  {
   "cell_type": "code",
   "execution_count": 109,
   "metadata": {},
   "outputs": [],
   "source": [
    "class Discriminator(nn.Module):\n",
    "    def __init__(self, ngpu=1):\n",
    "        super(Discriminator, self).__init__()\n",
    "        self.ngpu = ngpu\n",
    "        \n",
    "        \n",
    "        self.conv = nn.Sequential()\n",
    "        \n",
    "        self.lin = nn.Sequential()\n",
    "        \n",
    "        \n",
    "    def forward(self, x, E):\n",
    "        \n",
    "        \n",
    "        return x"
   ]
  },
  {
   "cell_type": "code",
   "execution_count": 110,
   "metadata": {},
   "outputs": [],
   "source": [
    "disc = Discriminator()\n",
    "x = np.random.rand(1, 100*50).reshape((100, 2, 5, 5))\n",
    "x = torch.from_numpy(x).float()\n",
    "E = torch.from_numpy(np.random.rand(1, 100).reshape((100, 1))).float()\n",
    "y = torch.from_numpy(np.random.randint(0, 2, 100).reshape((100, 1)))"
   ]
  },
  {
   "cell_type": "code",
   "execution_count": 112,
   "metadata": {},
   "outputs": [
    {
     "data": {
      "text/plain": [
       "torch.Size([100, 2, 5, 5])"
      ]
     },
     "execution_count": 112,
     "metadata": {},
     "output_type": "execute_result"
    }
   ],
   "source": [
    "disc(x, E).shape"
   ]
  },
  {
   "cell_type": "code",
   "execution_count": null,
   "metadata": {},
   "outputs": [],
   "source": []
  },
  {
   "cell_type": "code",
   "execution_count": null,
   "metadata": {},
   "outputs": [],
   "source": []
  },
  {
   "cell_type": "code",
   "execution_count": 95,
   "metadata": {},
   "outputs": [
    {
     "data": {
      "text/plain": [
       "torch.Size([100, 2, 5, 5])"
      ]
     },
     "execution_count": 95,
     "metadata": {},
     "output_type": "execute_result"
    }
   ],
   "source": [
    "gen = Generator()\n",
    "x = np.random.rand(1, 100).reshape((100, 1))\n",
    "x = torch.from_numpy(x).float()\n",
    "gen(x).shape"
   ]
  },
  {
   "cell_type": "code",
   "execution_count": null,
   "metadata": {},
   "outputs": [],
   "source": []
  }
 ],
 "metadata": {
  "kernelspec": {
   "display_name": "Python 3",
   "language": "python",
   "name": "python3"
  },
  "language_info": {
   "codemirror_mode": {
    "name": "ipython",
    "version": 3
   },
   "file_extension": ".py",
   "mimetype": "text/x-python",
   "name": "python",
   "nbconvert_exporter": "python",
   "pygments_lexer": "ipython3",
   "version": "3.7.3"
  }
 },
 "nbformat": 4,
 "nbformat_minor": 2
}
