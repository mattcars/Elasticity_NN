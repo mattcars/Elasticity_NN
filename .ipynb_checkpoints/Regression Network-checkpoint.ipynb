{
 "cells": [
  {
   "cell_type": "code",
   "execution_count": 1,
   "metadata": {},
   "outputs": [],
   "source": [
    "import numpy as np\n",
    "import matplotlib.pyplot as plt\n",
    "\n",
    "import torch\n",
    "import torch.nn as nn\n",
    "from torch.utils.data import TensorDataset, Dataset, DataLoader\n",
    "from torchvision import transforms, utils\n",
    "\n",
    "from sklearn.model_selection import train_test_split\n",
    "\n",
    "import os as os\n",
    "\n",
    "from tqdm import *"
   ]
  },
  {
   "cell_type": "markdown",
   "metadata": {},
   "source": [
    "# Outline"
   ]
  },
  {
   "cell_type": "markdown",
   "metadata": {},
   "source": [
    "Use the 5x5 base quadrants generated in the \"Create Samples\" notebook to train a neural network. This neural network will perform a regression analysis and predict the net Young's Modulus, E, of a material sample based on the 5x5 grid given to it. \n",
    "\n",
    "Currently, the network needs to have its dimensions manually changed if it were given anything except a 5x5 square input."
   ]
  },
  {
   "cell_type": "markdown",
   "metadata": {},
   "source": [
    "# Load Data"
   ]
  },
  {
   "cell_type": "code",
   "execution_count": 2,
   "metadata": {},
   "outputs": [],
   "source": [
    "def load_file(fileE, fileI):\n",
    "    \n",
    "    # unpack the data\n",
    "    Enet = np.load(fileE)\n",
    "    sample_ind = np.load(fileI, allow_pickle=True)\n",
    "    \n",
    "    # parse file name for data\n",
    "    name = fileE.split('.')[0]\n",
    "    \n",
    "    # get discretization of material quadrant\n",
    "    dx = int(name[8:10])\n",
    "    \n",
    "    # number of samples\n",
    "    N = int(name[14:])\n",
    "    \n",
    "    # Retrun matrices\n",
    "    sample = np.zeros((N, 2*dx, 2*dx))\n",
    "    sample_base = np.zeros((N, dx, dx))\n",
    "    \n",
    "    for i in range(sample_ind.shape[0]):\n",
    "        ind = sample_ind[i]\n",
    "        \n",
    "        \n",
    "        base = np.zeros(dx**2)\n",
    "        base[ind] = 1\n",
    "        base1 = base.reshape((dx, dx))\n",
    "        base2 = np.flip(base1, axis=1)\n",
    "        base3 = np.flip(base1, axis=0)\n",
    "        base4 = np.flip(base2, axis=0)\n",
    "        \n",
    "        top = np.concatenate((base1, base2), axis=1)\n",
    "        bott = np.concatenate((base3, base4), axis=1)\n",
    "        layout = np.concatenate((top, bott), axis=0)\n",
    "        \n",
    "        sample_base[2*i] = base1\n",
    "        sample[2*i] = layout\n",
    "        \n",
    "        sample_base[2*i+1] = np.flip(np.rot90(base1), axis=0)\n",
    "        sample[2*i+1] = np.rot90(layout)\n",
    "    \n",
    "    \n",
    "    \n",
    "    return Enet, sample_base, sample"
   ]
  },
  {
   "cell_type": "code",
   "execution_count": 3,
   "metadata": {},
   "outputs": [],
   "source": [
    "fileE = 'train_E_05x05_10000.npy'\n",
    "fileI = 'train_I_05x05_10000.npy'\n",
    "\n",
    "# Get data from files\n",
    "'''\n",
    "y = the training labels (Enet of each material)\n",
    "x0 = training data (5x5) (the base design of each sample)\n",
    "x1 = training data (10x10) (full binary layout of material microstructure)\n",
    "'''\n",
    "E, x0, x1 = load_file(fileE, fileI)\n",
    "\n",
    "\n",
    "# Add dimensionality to the data\n",
    "'''\n",
    "Channel 1 = young's modulus\n",
    "Channel 2 = poison's ratio\n",
    "'''\n",
    "E1 = 1000\n",
    "v1 = .4\n",
    "E2 = 100\n",
    "v2 = .1\n",
    "\n",
    "X0 = np.zeros((x0.shape[0], 2, x0.shape[1], x0.shape[2]))\n",
    "X1 = np.zeros((x1.shape[0], 2, x1.shape[1], x1.shape[2]))\n",
    "\n",
    "for i in range(x0.shape[0]):\n",
    "    '''X0 DIMENSIONS'''\n",
    "    A = np.zeros((x0.shape[1], x0.shape[2]))\n",
    "    \n",
    "    # Input young's modulus\n",
    "    A[x0[i]==0] = E1\n",
    "    A[x0[i]==1] = E2\n",
    "    \n",
    "    X0[i, 0] = A\n",
    "    \n",
    "    # Input young's modulus\n",
    "    A[x0[i]==0] = v1\n",
    "    A[x0[i]==1] = v2\n",
    "    \n",
    "    X0[i, 1] = A\n",
    "    \n",
    "    '''X1 DIMENSIONS'''\n",
    "    B = np.zeros((x1.shape[1], x1.shape[2]))\n",
    "    \n",
    "    # Input young's modulus\n",
    "    B[x1[i]==0] = E1\n",
    "    B[x1[i]==1] = E2\n",
    "    \n",
    "    X1[i, 0] = B\n",
    "    \n",
    "    # Input young's modulus\n",
    "    B[x1[i]==0] = v1\n",
    "    B[x1[i]==1] = v2\n",
    "    \n",
    "    X1[i, 1] = B"
   ]
  },
  {
   "cell_type": "markdown",
   "metadata": {},
   "source": [
    "# Neural Network Architecture"
   ]
  },
  {
   "cell_type": "code",
   "execution_count": 4,
   "metadata": {},
   "outputs": [],
   "source": [
    "class Regdx(nn.Module):\n",
    "    \n",
    "    # Network consruction\n",
    "    def __init__(self, in_channels, ngpu=1):\n",
    "        super(Regdx, self).__init__()\n",
    "        self.ngpu = ngpu\n",
    "        \n",
    "        # Convolutional 2D layers\n",
    "        self.conv = nn.Sequential(\n",
    "            nn.Conv2d(in_channels, out_channels=10, kernel_size=3, padding=1), # 2 x 5 x 5\n",
    "            nn.ReLU(),\n",
    "            nn.BatchNorm2d(10), \n",
    "            nn.MaxPool2d(kernel_size=3, padding=1, stride=1),\n",
    "            nn.ReLU(),\n",
    "            nn.BatchNorm2d(10),\n",
    "            nn.Conv2d(10, 25, kernel_size=3), \n",
    "            nn.ReLU(),\n",
    "            nn.BatchNorm2d(25),\n",
    "            nn.Conv2d(25, 50, kernel_size=3),\n",
    "            nn.ReLU(),\n",
    "            nn.BatchNorm2d(50)\n",
    "        )\n",
    "        \n",
    "        # Linear layers\n",
    "        self.lin = nn.Sequential(\n",
    "            nn.Linear(50, 20), \n",
    "            nn.ReLU(),\n",
    "            nn.BatchNorm1d(20), \n",
    "            nn.Dropout(p=0.5),\n",
    "            nn.Linear(20, 4),\n",
    "            nn.ReLU(),\n",
    "            nn.Linear(4, 1),\n",
    "            nn.ReLU()\n",
    "        )\n",
    "       \n",
    "        \n",
    "    def forward(self, x):\n",
    "        x = self.conv(x)\n",
    "        x = x.reshape((x.shape[0], x.shape[1]*x.shape[2]*x.shape[3]))\n",
    "        x = self.lin(x)\n",
    "        return x"
   ]
  },
  {
   "cell_type": "markdown",
   "metadata": {},
   "source": [
    "# Train Network"
   ]
  },
  {
   "cell_type": "code",
   "execution_count": 5,
   "metadata": {},
   "outputs": [],
   "source": [
    "# Select which data to train and normalize them\n",
    "x = np.zeros(X0.shape)\n",
    "x[:, 0, :, :] = X0[:, 0, :, :]/max(E1, E2)\n",
    "x[:, 1, :, :] = X0[:, 1, :, :]/max(v1, v2)\n",
    "y = (E/max(E1, E2)).reshape((x.shape[0], 1))\n",
    "\n",
    "# Group the data\n",
    "X_train, X_test, y_train, y_test = train_test_split(x, y, test_size=0.25)\n",
    "(X_train, X_test, y_train, y_test) = (torch.from_numpy(X_train).float(), torch.from_numpy(X_test).float(), torch.from_numpy(y_train).float(), torch.from_numpy(y_test).float())\n",
    "dataset = TensorDataset(X_train,y_train)\n",
    "\n",
    "# Batch\n",
    "B = 10\n",
    "dataloader = torch.utils.data.DataLoader(dataset, batch_size=B, shuffle=True)\n",
    "\n",
    "# Initiatlize model\n",
    "model = Regdx(x.shape[1])\n",
    "\n",
    "# Save model\n",
    "model_store_path = os.getcwd()+'/GAN_Models'+'/Reg.pt'\n",
    "\n",
    "# Loss function\n",
    "loss_fn = torch.nn.MSELoss(reduction='sum')\n",
    "\n",
    "# Optimizer\n",
    "learning_rate = 1e-4\n",
    "optimizer = torch.optim.Adam(model.parameters(), lr=learning_rate)"
   ]
  },
  {
   "cell_type": "code",
   "execution_count": 6,
   "metadata": {},
   "outputs": [
    {
     "name": "stderr",
     "output_type": "stream",
     "text": [
      "100%|██████████| 1000/1000 [42:37<00:00,  2.61s/it]\n"
     ]
    },
    {
     "data": {
      "text/plain": [
       "Regdx(\n",
       "  (conv): Sequential(\n",
       "    (0): Conv2d(2, 10, kernel_size=(3, 3), stride=(1, 1), padding=(1, 1))\n",
       "    (1): ReLU()\n",
       "    (2): BatchNorm2d(10, eps=1e-05, momentum=0.1, affine=True, track_running_stats=True)\n",
       "    (3): MaxPool2d(kernel_size=3, stride=1, padding=1, dilation=1, ceil_mode=False)\n",
       "    (4): ReLU()\n",
       "    (5): BatchNorm2d(10, eps=1e-05, momentum=0.1, affine=True, track_running_stats=True)\n",
       "    (6): Conv2d(10, 25, kernel_size=(3, 3), stride=(1, 1))\n",
       "    (7): ReLU()\n",
       "    (8): BatchNorm2d(25, eps=1e-05, momentum=0.1, affine=True, track_running_stats=True)\n",
       "    (9): Conv2d(25, 50, kernel_size=(3, 3), stride=(1, 1))\n",
       "    (10): ReLU()\n",
       "    (11): BatchNorm2d(50, eps=1e-05, momentum=0.1, affine=True, track_running_stats=True)\n",
       "  )\n",
       "  (lin): Sequential(\n",
       "    (0): Linear(in_features=50, out_features=20, bias=True)\n",
       "    (1): ReLU()\n",
       "    (2): BatchNorm1d(20, eps=1e-05, momentum=0.1, affine=True, track_running_stats=True)\n",
       "    (3): Dropout(p=0.5)\n",
       "    (4): Linear(in_features=20, out_features=4, bias=True)\n",
       "    (5): ReLU()\n",
       "    (6): Linear(in_features=4, out_features=1, bias=True)\n",
       "    (7): ReLU()\n",
       "  )\n",
       ")"
      ]
     },
     "execution_count": 6,
     "metadata": {},
     "output_type": "execute_result"
    }
   ],
   "source": [
    "epochs = 1000\n",
    "error = []\n",
    "it = []\n",
    "\n",
    "for i in tqdm(range(epochs)):\n",
    "    for data in dataloader:\n",
    "        x_tr = data[0]\n",
    "        y_tr = data[1]\n",
    "        \n",
    "        # Forward pass: compute predicted y by passing x to the model.\n",
    "        y_pred = model(x_tr)\n",
    "\n",
    "        # Compute and print loss.\n",
    "        loss = loss_fn(y_pred, y_tr)\n",
    "\n",
    "        # optimize the weights\n",
    "        optimizer.zero_grad()\n",
    "        loss.backward()\n",
    "        optimizer.step()\n",
    "        \n",
    "        \n",
    "    if i%20 == 19:\n",
    "        it.append(i)\n",
    "        error.append(loss.item())\n",
    "        \n",
    "        \n",
    "torch.save(model.state_dict(), model_store_path)\n",
    "model.eval()"
   ]
  },
  {
   "cell_type": "code",
   "execution_count": 7,
   "metadata": {
    "scrolled": true
   },
   "outputs": [
    {
     "data": {
      "text/plain": [
       "Text(0.5, 1.0, 'Accuracy of Results')"
      ]
     },
     "execution_count": 7,
     "metadata": {},
     "output_type": "execute_result"
    },
    {
     "data": {
      "image/png": "[encoded data removed]",
      "text/plain": [
       "<Figure size 576x288 with 2 Axes>"
      ]
     },
     "metadata": {
      "needs_background": "light"
     },
     "output_type": "display_data"
    }
   ],
   "source": [
    "# Asses testing data\n",
    "y_net = model(X_test)\n",
    "\n",
    "# Plot Results of Neural Network\n",
    "fig, (ax0, ax1) = plt.subplots(1, 2, figsize=(8, 4))\n",
    "\n",
    "ax0.plot(it, error)\n",
    "ax0.set_title('Loss over Training')\n",
    "\n",
    "ax1.scatter(y_test.numpy(), y_net.detach().numpy(), s=3)\n",
    "ax1.plot([.1, .9], [.1, .9], color='r')\n",
    "ax1.set_title('Accuracy of Results')"
   ]
  },
  {
   "cell_type": "code",
   "execution_count": 8,
   "metadata": {},
   "outputs": [
    {
     "data": {
      "image/png": "[encoded data removed]",
      "text/plain": [
       "<Figure size 144x144 with 1 Axes>"
      ]
     },
     "metadata": {
      "needs_background": "light"
     },
     "output_type": "display_data"
    },
    {
     "data": {
      "image/png": "[encoded data removed]",
      "text/plain": [
       "<Figure size 144x144 with 1 Axes>"
      ]
     },
     "metadata": {
      "needs_background": "light"
     },
     "output_type": "display_data"
    },
    {
     "data": {
      "image/png": "[encoded data removed]",
      "text/plain": [
       "<Figure size 144x144 with 1 Axes>"
      ]
     },
     "metadata": {
      "needs_background": "light"
     },
     "output_type": "display_data"
    },
    {
     "data": {
      "image/png": "[encoded data removed]",
      "text/plain": [
       "<Figure size 144x144 with 1 Axes>"
      ]
     },
     "metadata": {
      "needs_background": "light"
     },
     "output_type": "display_data"
    },
    {
     "data": {
      "image/png": "[encoded data removed]",
      "text/plain": [
       "<Figure size 144x144 with 1 Axes>"
      ]
     },
     "metadata": {
      "needs_background": "light"
     },
     "output_type": "display_data"
    }
   ],
   "source": [
    "trials = 5\n",
    "trial_i = np.random.randint(X_test.shape[0], size=trials)\n",
    "\n",
    "for i in trial_i:\n",
    "    plt.figure(figsize=(2, 2))\n",
    "    plt.pcolormesh(X_test[i, 0].numpy(), cmap='PuBu')\n",
    "    \n",
    "    yn = round(y_net.detach().numpy()[i, 0]*max(E1, E2), 2)\n",
    "    yt = round(y_test.numpy()[i, 0]*max(E1, E2), 2)\n",
    "    err = round(abs(yn-yt)/yt*100, 2)\n",
    "    \n",
    "    p_title=plt.title('Predicted: '+ str(yn)+ '\\nActual: ' + str(yt)+'\\nError: '+str(err)+'%')"
   ]
  },
  {
   "cell_type": "code",
   "execution_count": null,
   "metadata": {},
   "outputs": [],
   "source": []
  },
  {
   "cell_type": "code",
   "execution_count": null,
   "metadata": {},
   "outputs": [],
   "source": []
  }
 ],
 "metadata": {
  "kernelspec": {
   "display_name": "Python 3",
   "language": "python",
   "name": "python3"
  },
  "language_info": {
   "codemirror_mode": {
    "name": "ipython",
    "version": 3
   },
   "file_extension": ".py",
   "mimetype": "text/x-python",
   "name": "python",
   "nbconvert_exporter": "python",
   "pygments_lexer": "ipython3",
   "version": "3.7.3"
  }
 },
 "nbformat": 4,
 "nbformat_minor": 2
}
