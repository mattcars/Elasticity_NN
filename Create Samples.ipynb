{
 "cells": [
  {
   "cell_type": "code",
   "execution_count": 1,
   "metadata": {},
   "outputs": [],
   "source": [
    "import numpy as np\n",
    "import matplotlib.pyplot as plt\n",
    "from FEA import *\n",
    "from tqdm import *"
   ]
  },
  {
   "cell_type": "markdown",
   "metadata": {},
   "source": [
    "# Functions"
   ]
  },
  {
   "cell_type": "code",
   "execution_count": 2,
   "metadata": {},
   "outputs": [],
   "source": [
    "def gen_mesh(dx):\n",
    "    dX = 2*dx+1\n",
    "\n",
    "    Xgrid, Ygrid = np.meshgrid(np.linspace(0, 1, dX), np.linspace(0, 1, dX))\n",
    "    xv = Xgrid.reshape((Xgrid.shape[0]*Xgrid.shape[1], 1))\n",
    "    yv = Ygrid.reshape((Ygrid.shape[0]*Ygrid.shape[1], 1))\n",
    "    nodes = np.concatenate((xv, yv), axis=1)\n",
    "\n",
    "    element = []\n",
    "\n",
    "    for i in range(dX-1):\n",
    "        for j in range(dX-1):\n",
    "            elems = [j + i*(dX), j + i*(dX) + 1, j + (i+1)*(dX) +1, j + (i+1)*(dX) ]\n",
    "            element.append(elems)\n",
    "            \n",
    "    return nodes, np.array(element)\n",
    "\n",
    "\n",
    "def gen_sample(dx, num, E1, E2, v1, v2):\n",
    "    \n",
    "    # Randomize placement\n",
    "    ind = np.random.randint(dx**2, size=num)\n",
    "\n",
    "    # Create material sample\n",
    "    base = np.zeros(dx**2)\n",
    "    base[ind] = 1\n",
    "    base1 = base.reshape((dx, dx))\n",
    "    base2 = np.flip(base1, axis=1)\n",
    "    base3 = np.flip(base1, axis=0)\n",
    "    base4 = np.flip(base2, axis=0)\n",
    "\n",
    "    top = np.concatenate((base1, base2), axis=1)\n",
    "    bott = np.concatenate((base3, base4), axis=1)\n",
    "    layout = np.concatenate((top, bott), axis=0)\n",
    "\n",
    "    \n",
    "    # Compile material properities\n",
    "    E = np.zeros(layout.shape)\n",
    "    v = np.zeros(layout.shape)\n",
    "    \n",
    "    E[layout==0] = E1\n",
    "    E[layout==1] = E2\n",
    "    v[layout==0] = v1\n",
    "    v[layout==1] = v2\n",
    "    \n",
    "    return E, v, base1, ind"
   ]
  },
  {
   "cell_type": "code",
   "execution_count": 32,
   "metadata": {},
   "outputs": [],
   "source": [
    "def FEA_sample(nodes, elements, E, v):\n",
    "    # Elastic FEA parameters\n",
    "    mu = E/(2*(1+v))\n",
    "    lam = E*v/((1+v)*(1-2))\n",
    "\n",
    "    # Unit force on the top of sample\n",
    "    Pn = get_node(nodes, 'all', 1)\n",
    "    #Pe = np.array([np.where(element==n)[0][-1] for n in Pn])\n",
    "    Pe=[]\n",
    "    for i, pn in enumerate(Pn):\n",
    "        if i<len(Pn)/2:\n",
    "            Pe.append(np.where(element==pn)[0][-1])\n",
    "        else:\n",
    "            Pe.append(np.where(element==pn)[0][0])\n",
    "    Pe = np.array(Pe)\n",
    "    P = np.array([[0, 1]]*len(Pn))\n",
    "\n",
    "    # Assign pins on the base\n",
    "    n0 = get_node(nodes, 'all', 0)\n",
    "    u0, i0 = assign_fixity(n0, 'xy')\n",
    "\n",
    "    # Get Gauss Points\n",
    "    GP = gauss_points(5, 'Q4')\n",
    "\n",
    "    # Solve FEA system\n",
    "    K, F = assemble_hybrid(nodes, element, Q4, Q4, GP, P, Pn, Pe, mu=mu.reshape(4*dx**2), lam=lam.reshape(4*dx**2))\n",
    "    S, R = solve_system(K, F, u0, i0)\n",
    "\n",
    "    # Process data\n",
    "    nf = nodes.shape[0]*2\n",
    "    nq = element.shape[0]\n",
    "\n",
    "    U = S[:nf]\n",
    "    Q = S[-nq:]\n",
    "    \n",
    "    Unodes = nodes + U.reshape(nodes.shape)\n",
    "    \n",
    "    # Total force in Y direction \n",
    "    Pnet = np.sum(P)\n",
    "    \n",
    "    # displacement of end\n",
    "    d = np.mean(Unodes[Pn, 1]-nodes[Pn, 1])\n",
    "    \n",
    "    # Effective Youngs Modulus\n",
    "    # E = stress/strain = (P/area)/(displacement/length) = P/d\n",
    "    Enet = Pnet/d\n",
    "    \n",
    "    return Unodes, Q, Enet"
   ]
  },
  {
   "cell_type": "markdown",
   "metadata": {},
   "source": [
    "# Generate a Sample"
   ]
  },
  {
   "cell_type": "code",
   "execution_count": 34,
   "metadata": {},
   "outputs": [],
   "source": [
    "'''\n",
    "SET MATERIAL PROPERTIES\n",
    "    E = modulus of elasticity\n",
    "    v = poisson's ratio\n",
    "    \n",
    "    full size of material will be (2*dx) by (2*dx)\n",
    "'''\n",
    "# Material properties\n",
    "E1 = 1000\n",
    "v1 = .4\n",
    "E2 = 100\n",
    "v2 = .1\n",
    "\n",
    "# Discretization per quadrant\n",
    "dx = 5\n",
    "\n",
    "# Number of imperfections per quadrant\n",
    "num = 10"
   ]
  },
  {
   "cell_type": "code",
   "execution_count": 35,
   "metadata": {},
   "outputs": [],
   "source": [
    "E, v, base, ind = gen_sample(dx, num, E1, E2, v1, v2)\n",
    "nodes, element = gen_mesh(dx)"
   ]
  },
  {
   "cell_type": "code",
   "execution_count": 36,
   "metadata": {},
   "outputs": [
    {
     "data": {
      "image/png": "[encoded data removed]",
      "text/plain": [
       "<Figure size 864x360 with 4 Axes>"
      ]
     },
     "metadata": {
      "needs_background": "light"
     },
     "output_type": "display_data"
    }
   ],
   "source": [
    "dX = 2*dx+1\n",
    "Xgrid, Ygrid = np.meshgrid(np.linspace(0, 1, dX), np.linspace(0, 1, dX))\n",
    "\n",
    "fig, (ax0, ax1) = plt.subplots(1, 2, figsize=(12, 5))\n",
    "E_plot = ax0.pcolormesh(Xgrid, Ygrid, E, cmap='PuBu')\n",
    "ax0.set_title('Youngs Modulus')\n",
    "fig.colorbar(E_plot, ax=ax0)\n",
    "N_plot = ax0.scatter(nodes[:, 0], nodes[:, 1], c='r', s=1)\n",
    "\n",
    "v_plot = ax1.pcolormesh(Xgrid, Ygrid, v, cmap='PuBu')\n",
    "ax1.set_title('Poissons Ratio')\n",
    "fig.colorbar(v_plot, ax=ax1)\n",
    "N_plot = ax1.scatter(nodes[:, 0], nodes[:, 1], c='r', s=1)"
   ]
  },
  {
   "cell_type": "code",
   "execution_count": 37,
   "metadata": {},
   "outputs": [],
   "source": [
    "Unodes, Q, Enet = FEA_sample(nodes, element, E, v)"
   ]
  },
  {
   "cell_type": "code",
   "execution_count": 39,
   "metadata": {},
   "outputs": [
    {
     "name": "stdout",
     "output_type": "stream",
     "text": [
      "Net Elastic Modulus: 348.7920895726402\n"
     ]
    },
    {
     "data": {
      "image/png": "[encoded data removed]",
      "text/plain": [
       "<Figure size 1368x360 with 5 Axes>"
      ]
     },
     "metadata": {
      "needs_background": "light"
     },
     "output_type": "display_data"
    }
   ],
   "source": [
    "fig, (ax0, ax1, ax2) = plt.subplots(1, 3, figsize=(19, 5))\n",
    "\n",
    "ax0.scatter(nodes[:, 0], nodes[:, 1], s=10, alpha=.5)\n",
    "ax0.scatter(Unodes[:, 0], Unodes[:, 1], s=10)\n",
    "\n",
    "S_plot=ax1.pcolormesh(Xgrid, Ygrid, Q.reshape(2*dx, 2*dx))\n",
    "ax1.set_title('Stress per Element')\n",
    "fig.colorbar(S_plot, ax=ax1)\n",
    "\n",
    "E_plot=ax2.pcolormesh(Xgrid, Ygrid, E, cmap='PuBu')\n",
    "ax2.set_title('Elasticity Distribution')\n",
    "fig.colorbar(E_plot, ax=ax2)\n",
    "\n",
    "print('Net Elastic Modulus: ' +str(Enet))"
   ]
  },
  {
   "cell_type": "markdown",
   "metadata": {},
   "source": [
    "# Create Training Data"
   ]
  },
  {
   "cell_type": "code",
   "execution_count": 40,
   "metadata": {},
   "outputs": [],
   "source": [
    "'''\n",
    "GENERATE TRAINING DATA\n",
    "N = number of total samples (even number)\n",
    "dx = discretization of lower quadrant (total material size = (2dx * 2dx))\n",
    "E = array of Young's Modulus [E1, E2]\n",
    "v = array of Poisson's Ratio [v1, v2]\n",
    "ret = specify values to return \n",
    "    'ind' returns array of net E's and indices of material 2 in the quadrant\n",
    "    'base' returns array of net E's and the binary material map of the quadrant\n",
    "    'E' returns array of net E's and the \n",
    "save = whether to save the indices to a file\n",
    "'''\n",
    "\n",
    "def create_data(N, dx, E, v, ret='all', save=True, file_mod=''):\n",
    "    \n",
    "    # Generate the mesh\n",
    "    nodes, element = gen_mesh(dx)\n",
    "    \n",
    "    # Number of imperfections per quadrant (range)\n",
    "    num = [1, dx**2]\n",
    "    \n",
    "    # Storage matrices\n",
    "    Enet = np.zeros(N)\n",
    "    sample = np.zeros((N, 2*dx, 2*dx))\n",
    "    sample_base = np.zeros((N, dx, dx))\n",
    "    sample_ind = []\n",
    "    \n",
    "    for i in tqdm(range(int(N/2))):\n",
    "        n = np.random.randint(num[0], num[1])\n",
    "\n",
    "        # first sample\n",
    "        E1, v1, base1, ind1 = gen_sample(dx, n, E[0], E[1], v[0], v[1])\n",
    "        Unodes, Q, Enet1 = FEA_sample(nodes, element, E1, v1)\n",
    "\n",
    "        Enet[2*i] = Enet1\n",
    "        sample[2*i] = E1\n",
    "        sample_base[2*i] = base1\n",
    "        sample_ind.append(ind1)\n",
    "\n",
    "\n",
    "        # second sample\n",
    "        E2 = np.rot90(E1)\n",
    "        v2 = np.rot90(v1)\n",
    "        base2 = np.flip(np.rot90(base1), axis=0)\n",
    "        Unods, Q, Enet2 = FEA_sample(nodes, element, E2, v2)\n",
    "\n",
    "        Enet[2*i+1] = Enet2\n",
    "        sample[2*i+1] = E2\n",
    "        sample_base[2*i+1] = base2\n",
    "        \n",
    "        \n",
    "    if save:\n",
    "        if dx<10:\n",
    "            dim = '0'+str(dx)\n",
    "        else:\n",
    "            dim = str(dx)\n",
    "        fileI = 'train_I_'+dim+'x'+dim+'_'+str(N)+file_mod+'.npy'\n",
    "        np.save(fileI, sample_ind)\n",
    "        \n",
    "        fileE = 'train_E_'+dim+'x'+dim+'_'+str(N)+file_mod+'.npy'\n",
    "        np.save(fileE, Enet)\n",
    "    \n",
    "    \n",
    "    if 'ind' in ret:\n",
    "        return Enet, sample_ind\n",
    "    \n",
    "    elif 'base' in ret:\n",
    "        return Enet, sample_base\n",
    "    \n",
    "    elif 'E' in ret:\n",
    "        return Enet, sample\n",
    "    \n",
    "    else:\n",
    "        return Enet, sample, sample_base, sample_ind\n",
    "    \n",
    "    \n",
    "'''\n",
    "PLOT A SAMPLE OF THE GENERATED DATA\n",
    "'''\n",
    "def plot_sample(N, data, titles):\n",
    "    \n",
    "    ind = np.random.randint(data.shape[0], size=N)\n",
    "    \n",
    "    for i in range(N):\n",
    "        \n",
    "        samp = data[ind[i]]\n",
    "        \n",
    "        plt.figure(figsize=(2, 2))\n",
    "        plt.pcolormesh(samp, cmap='cool')\n",
    "        plt.title(str(titles[i]))\n",
    "        \n",
    "'''\n",
    "\n",
    "'''\n",
    "def import_sample(fileE, fileI):\n",
    "    \n",
    "    Enet = np.load(fileE)\n",
    "    \n",
    "    indices = np.load(fileI)\n",
    "    N = 2*indices.shape[0]\n",
    "    \n",
    "    \n",
    "    \n",
    "    for i in tqdm(range(indices.shape[0])):\n",
    "        ind = indices[i]\n",
    "        \n",
    "        \n",
    "        \n",
    "        Enet[2*i] = Enet1\n",
    "        sample[2*i] = E1\n",
    "        sample_base[2*i] = base1\n",
    "        sample_ind.append(ind1)\n",
    "\n",
    "        Enet[2*i+1] = Enet2\n",
    "        sample[2*i+1] = E2\n",
    "        sample_base[2*i+1] = base2\n",
    "    \n",
    "    \n",
    "    return Enet, sample, sample_base, sample_ind"
   ]
  },
  {
   "cell_type": "code",
   "execution_count": 42,
   "metadata": {},
   "outputs": [
    {
     "name": "stderr",
     "output_type": "stream",
     "text": [
      "100%|██████████| 5/5 [00:03<00:00,  1.25it/s]\n"
     ]
    }
   ],
   "source": [
    "# Amount of training data\n",
    "N = 10\n",
    "\n",
    "# Material properties\n",
    "E1 = 1000\n",
    "v1 = .4\n",
    "E2 = 100\n",
    "v2 = .1\n",
    "\n",
    "# Discretization per quadrant\n",
    "dx = 5\n",
    "\n",
    "Enet, E_samples, base_samples, ind_samples = create_data(N, dx, [E1, E2], [v1, v2], save=False)"
   ]
  },
  {
   "cell_type": "code",
   "execution_count": null,
   "metadata": {},
   "outputs": [],
   "source": []
  },
  {
   "cell_type": "code",
   "execution_count": null,
   "metadata": {},
   "outputs": [],
   "source": []
  },
  {
   "cell_type": "code",
   "execution_count": null,
   "metadata": {},
   "outputs": [],
   "source": []
  },
  {
   "cell_type": "code",
   "execution_count": null,
   "metadata": {},
   "outputs": [],
   "source": []
  },
  {
   "cell_type": "code",
   "execution_count": null,
   "metadata": {},
   "outputs": [],
   "source": []
  },
  {
   "cell_type": "code",
   "execution_count": null,
   "metadata": {},
   "outputs": [],
   "source": []
  },
  {
   "cell_type": "code",
   "execution_count": null,
   "metadata": {},
   "outputs": [],
   "source": []
  },
  {
   "cell_type": "code",
   "execution_count": null,
   "metadata": {},
   "outputs": [],
   "source": []
  }
 ],
 "metadata": {
  "kernelspec": {
   "display_name": "Python 3",
   "language": "python",
   "name": "python3"
  },
  "language_info": {
   "codemirror_mode": {
    "name": "ipython",
    "version": 3
   },
   "file_extension": ".py",
   "mimetype": "text/x-python",
   "name": "python",
   "nbconvert_exporter": "python",
   "pygments_lexer": "ipython3",
   "version": "3.7.3"
  }
 },
 "nbformat": 4,
 "nbformat_minor": 2
}
